{
 "cells": [
  {
   "cell_type": "markdown",
   "metadata": {},
   "source": [
    "# Univariate Time Series"
   ]
  },
  {
   "cell_type": "markdown",
   "metadata": {},
   "source": [
    "<b>Definition</b> from <a href='https://onlinecourses.science.psu.edu/stat510/node/47'>here</a>: <i>a sequence of measurements of the same variable collected over time</i>. Examples: stock prices, demand, housing prices."
   ]
  },
  {
   "cell_type": "markdown",
   "metadata": {},
   "source": [
    "In pandas a univariate time series is a Series object where the index is a \"timestamp\"."
   ]
  },
  {
   "cell_type": "markdown",
   "metadata": {},
   "source": [
    "## Stock prices"
   ]
  },
  {
   "cell_type": "markdown",
   "metadata": {},
   "source": [
    "Our goal is to create a Series object <i>stock</i> with the Google stock closing price."
   ]
  },
  {
   "cell_type": "markdown",
   "metadata": {},
   "source": [
    "<b>Stock History info:</b> You can get the Google stock historical price data from https://finance.yahoo.com/quote/GOOGL/history?p=GOOGL\n",
    "In 'Historical Data' tab, set the 'Time Period' to Max, then 'Apply', then 'Download Data'. A .csv file will be downloaded into your local computer. Rename the file to **GOOGL.csv**"
   ]
  },
  {
   "cell_type": "code",
   "execution_count": 1,
   "metadata": {
    "collapsed": true
   },
   "outputs": [],
   "source": [
    "# print all the outputs in a cell\n",
    "from IPython.core.interactiveshell import InteractiveShell\n",
    "InteractiveShell.ast_node_interactivity = \"all\""
   ]
  },
  {
   "cell_type": "markdown",
   "metadata": {},
   "source": [
    "The following code creates a Series object <i>stock</i> based on GOOGL.csv file. Index is the date and the variable is the Google stock closing prices. "
   ]
  },
  {
   "cell_type": "code",
   "execution_count": 2,
   "metadata": {
    "collapsed": true
   },
   "outputs": [],
   "source": [
    "import pandas as pd\n",
    "import numpy as np\n",
    "data = pd.read_csv('GOOGL.csv',index_col=0, parse_dates=True)\n",
    "#or use the following two lines\n",
    "#data = pd.read_csv('GOOGL.csv',index_col=0)\n",
    "#data.index=data.index.astype(np.datetime64)\n",
    "stock = data['Close']"
   ]
  },
  {
   "cell_type": "code",
   "execution_count": 3,
   "metadata": {},
   "outputs": [
    {
     "data": {
      "text/plain": [
       "count    3631.000000\n",
       "mean      449.301397\n",
       "std       300.610251\n",
       "min        50.055054\n",
       "25%       234.151657\n",
       "50%       307.157166\n",
       "75%       601.775910\n",
       "max      1285.500000\n",
       "Name: Close, dtype: float64"
      ]
     },
     "execution_count": 3,
     "metadata": {},
     "output_type": "execute_result"
    }
   ],
   "source": [
    "stock.describe()"
   ]
  },
  {
   "cell_type": "code",
   "execution_count": 4,
   "metadata": {
    "scrolled": true
   },
   "outputs": [
    {
     "data": {
      "text/plain": [
       "DatetimeIndex(['2004-08-19', '2004-08-20', '2004-08-23', '2004-08-24',\n",
       "               '2004-08-25', '2004-08-26', '2004-08-27', '2004-08-30',\n",
       "               '2004-08-31', '2004-09-01',\n",
       "               ...\n",
       "               '2019-01-08', '2019-01-09', '2019-01-10', '2019-01-11',\n",
       "               '2019-01-14', '2019-01-15', '2019-01-16', '2019-01-17',\n",
       "               '2019-01-18', '2019-01-22'],\n",
       "              dtype='datetime64[ns]', name='Date', length=3631, freq=None)"
      ]
     },
     "execution_count": 4,
     "metadata": {},
     "output_type": "execute_result"
    }
   ],
   "source": [
    "stock.index"
   ]
  },
  {
   "cell_type": "code",
   "execution_count": 5,
   "metadata": {},
   "outputs": [
    {
     "data": {
      "text/plain": [
       "array([  50.220219,   54.209209,   54.754753, ..., 1099.119995,\n",
       "       1107.300049, 1078.630005])"
      ]
     },
     "execution_count": 5,
     "metadata": {},
     "output_type": "execute_result"
    }
   ],
   "source": [
    "stock.values"
   ]
  },
  {
   "cell_type": "markdown",
   "metadata": {},
   "source": [
    "The following command will plot the stock price"
   ]
  },
  {
   "cell_type": "code",
   "execution_count": 6,
   "metadata": {},
   "outputs": [
    {
     "name": "stdout",
     "output_type": "stream",
     "text": [
      "Populating the interactive namespace from numpy and matplotlib\n"
     ]
    },
    {
     "data": {
      "text/plain": [
       "<matplotlib.axes._subplots.AxesSubplot at 0x107878208>"
      ]
     },
     "execution_count": 6,
     "metadata": {},
     "output_type": "execute_result"
    },
    {
     "data": {
      "image/png": "[encoded data removed]",
      "text/plain": [
       "<Figure size 432x288 with 1 Axes>"
      ]
     },
     "metadata": {},
     "output_type": "display_data"
    }
   ],
   "source": [
    "%pylab inline\n",
    "stock.plot()"
   ]
  },
  {
   "cell_type": "markdown",
   "metadata": {},
   "source": [
    "## Exploring a Time Series"
   ]
  },
  {
   "cell_type": "markdown",
   "metadata": {},
   "source": [
    "This Series object has one entry for each trading day. The index (of type <i>datetime64</i>) is the day and the value (of type <i>float64</i>) is the closing price."
   ]
  },
  {
   "cell_type": "markdown",
   "metadata": {},
   "source": [
    "Let's take a look at the first 10 days of data"
   ]
  },
  {
   "cell_type": "code",
   "execution_count": 7,
   "metadata": {},
   "outputs": [
    {
     "data": {
      "text/plain": [
       "Date\n",
       "2004-08-19    50.220219\n",
       "2004-08-20    54.209209\n",
       "2004-08-23    54.754753\n",
       "2004-08-24    52.487488\n",
       "2004-08-25    53.053055\n",
       "2004-08-26    54.009010\n",
       "2004-08-27    53.128128\n",
       "2004-08-30    51.056057\n",
       "2004-08-31    51.236237\n",
       "2004-09-01    50.175175\n",
       "Name: Close, dtype: float64"
      ]
     },
     "execution_count": 7,
     "metadata": {},
     "output_type": "execute_result"
    }
   ],
   "source": [
    "stock.head(10)"
   ]
  },
  {
   "cell_type": "markdown",
   "metadata": {},
   "source": [
    "Let's take a look at the last 10 days of data"
   ]
  },
  {
   "cell_type": "code",
   "execution_count": 8,
   "metadata": {},
   "outputs": [
    {
     "data": {
      "text/plain": [
       "Date\n",
       "2019-01-08    1085.369995\n",
       "2019-01-09    1081.650024\n",
       "2019-01-10    1078.829956\n",
       "2019-01-11    1064.469971\n",
       "2019-01-14    1051.510010\n",
       "2019-01-15    1086.510010\n",
       "2019-01-16    1089.510010\n",
       "2019-01-17    1099.119995\n",
       "2019-01-18    1107.300049\n",
       "2019-01-22    1078.630005\n",
       "Name: Close, dtype: float64"
      ]
     },
     "execution_count": 8,
     "metadata": {},
     "output_type": "execute_result"
    }
   ],
   "source": [
    "stock.tail(10)"
   ]
  },
  {
   "cell_type": "code",
   "execution_count": 9,
   "metadata": {},
   "outputs": [
    {
     "data": {
      "text/plain": [
       "DatetimeIndex(['2004-08-19', '2004-08-20', '2004-08-23', '2004-08-24',\n",
       "               '2004-08-25', '2004-08-26', '2004-08-27', '2004-08-30',\n",
       "               '2004-08-31', '2004-09-01'],\n",
       "              dtype='datetime64[ns]', name='Date', freq=None)"
      ]
     },
     "execution_count": 9,
     "metadata": {},
     "output_type": "execute_result"
    }
   ],
   "source": [
    "stock.index[:10]"
   ]
  },
  {
   "cell_type": "code",
   "execution_count": 10,
   "metadata": {},
   "outputs": [
    {
     "data": {
      "text/plain": [
       "3631"
      ]
     },
     "execution_count": 10,
     "metadata": {},
     "output_type": "execute_result"
    }
   ],
   "source": [
    "len(stock)"
   ]
  },
  {
   "cell_type": "markdown",
   "metadata": {},
   "source": [
    "## Questions"
   ]
  },
  {
   "cell_type": "markdown",
   "metadata": {},
   "source": [
    "Answer these questions without using for loops."
   ]
  },
  {
   "cell_type": "markdown",
   "metadata": {},
   "source": [
    "<b>Question 1</b><br/>What day had the largest stock price and what's the price? "
   ]
  },
  {
   "cell_type": "code",
   "execution_count": 11,
   "metadata": {},
   "outputs": [
    {
     "data": {
      "text/plain": [
       "Date\n",
       "2018-07-26    1285.5\n",
       "Name: Close, dtype: float64"
      ]
     },
     "execution_count": 11,
     "metadata": {},
     "output_type": "execute_result"
    }
   ],
   "source": [
    "stock.nlargest(1)"
   ]
  },
  {
   "cell_type": "markdown",
   "metadata": {},
   "source": [
    "<b>Question 2</b><br/>What are the 10 days with largest stock price? Report both the day and the price."
   ]
  },
  {
   "cell_type": "code",
   "execution_count": 12,
   "metadata": {},
   "outputs": [
    {
     "data": {
      "text/plain": [
       "Date\n",
       "2018-07-26    1285.500000\n",
       "2018-07-25    1275.939941\n",
       "2018-08-29    1264.650024\n",
       "2018-08-09    1264.459961\n",
       "2018-08-08    1261.329956\n",
       "2018-07-24    1258.150024\n",
       "2018-08-14    1258.140015\n",
       "2018-08-27    1256.270020\n",
       "2018-08-07    1255.839966\n",
       "2018-08-30    1254.439941\n",
       "Name: Close, dtype: float64"
      ]
     },
     "execution_count": 12,
     "metadata": {},
     "output_type": "execute_result"
    }
   ],
   "source": [
    "stock.nlargest(10)"
   ]
  },
  {
   "cell_type": "markdown",
   "metadata": {},
   "source": [
    "<b>Question 3</b><br/>How much profit (ratio) would we have made if we had bought at the beginning and sold everything on the last day? Do not type in any date."
   ]
  },
  {
   "cell_type": "code",
   "execution_count": 13,
   "metadata": {},
   "outputs": [
    {
     "data": {
      "text/plain": [
       "20.47800281396622"
      ]
     },
     "execution_count": 13,
     "metadata": {},
     "output_type": "execute_result"
    }
   ],
   "source": [
    "(stock.values[-1] - stock.values[0] ) / stock.values[0]"
   ]
  },
  {
   "cell_type": "markdown",
   "metadata": {},
   "source": [
    "<b>Question 4</b><br/>\n",
    "What is the moving average of the price at each trading session? Use a 50-trading-days window. <i>Hint</i>: Explore the method <i>rolling</i>"
   ]
  },
  {
   "cell_type": "code",
   "execution_count": 14,
   "metadata": {
    "collapsed": true
   },
   "outputs": [],
   "source": [
    "rol = stock.rolling(50)"
   ]
  },
  {
   "cell_type": "code",
   "execution_count": 15,
   "metadata": {},
   "outputs": [
    {
     "data": {
      "text/plain": [
       "pandas.core.window.Rolling"
      ]
     },
     "execution_count": 15,
     "metadata": {},
     "output_type": "execute_result"
    }
   ],
   "source": [
    "type(rol)"
   ]
  },
  {
   "cell_type": "code",
   "execution_count": 16,
   "metadata": {},
   "outputs": [
    {
     "data": {
      "text/plain": [
       "63.58698695999998"
      ]
     },
     "execution_count": 16,
     "metadata": {},
     "output_type": "execute_result"
    }
   ],
   "source": [
    "stock[:50].mean()"
   ]
  },
  {
   "cell_type": "code",
   "execution_count": 17,
   "metadata": {},
   "outputs": [
    {
     "data": {
      "text/plain": [
       "Date\n",
       "2004-08-19            NaN\n",
       "2004-08-20            NaN\n",
       "2004-08-23            NaN\n",
       "2004-08-24            NaN\n",
       "2004-08-25            NaN\n",
       "2004-08-26            NaN\n",
       "2004-08-27            NaN\n",
       "2004-08-30            NaN\n",
       "2004-08-31            NaN\n",
       "2004-09-01            NaN\n",
       "2004-09-02            NaN\n",
       "2004-09-03            NaN\n",
       "2004-09-07            NaN\n",
       "2004-09-08            NaN\n",
       "2004-09-09            NaN\n",
       "2004-09-10            NaN\n",
       "2004-09-13            NaN\n",
       "2004-09-14            NaN\n",
       "2004-09-15            NaN\n",
       "2004-09-16            NaN\n",
       "2004-09-17            NaN\n",
       "2004-09-20            NaN\n",
       "2004-09-21            NaN\n",
       "2004-09-22            NaN\n",
       "2004-09-23            NaN\n",
       "2004-09-24            NaN\n",
       "2004-09-27            NaN\n",
       "2004-09-28            NaN\n",
       "2004-09-29            NaN\n",
       "2004-09-30            NaN\n",
       "                 ...     \n",
       "2018-12-07    1097.926995\n",
       "2018-12-10    1094.843396\n",
       "2018-12-11    1091.934797\n",
       "2018-12-12    1089.238796\n",
       "2018-12-13    1086.556797\n",
       "2018-12-14    1083.360395\n",
       "2018-12-17    1080.331997\n",
       "2018-12-18    1077.843599\n",
       "2018-12-19    1075.434397\n",
       "2018-12-20    1073.002596\n",
       "2018-12-21    1070.984396\n",
       "2018-12-24    1068.862996\n",
       "2018-12-26    1067.409194\n",
       "2018-12-27    1066.418396\n",
       "2018-12-28    1064.690398\n",
       "2018-12-31    1063.037798\n",
       "2019-01-02    1062.173198\n",
       "2019-01-03    1060.578997\n",
       "2019-01-04    1059.912996\n",
       "2019-01-07    1059.133196\n",
       "2019-01-08    1059.698196\n",
       "2019-01-09    1059.259397\n",
       "2019-01-10    1059.160996\n",
       "2019-01-11    1059.755796\n",
       "2019-01-14    1059.795796\n",
       "2019-01-15    1059.714397\n",
       "2019-01-16    1059.784998\n",
       "2019-01-17    1060.337598\n",
       "2019-01-18    1061.368999\n",
       "2019-01-22    1061.550200\n",
       "Name: Close, Length: 3631, dtype: float64"
      ]
     },
     "execution_count": 17,
     "metadata": {},
     "output_type": "execute_result"
    }
   ],
   "source": [
    "rol.mean()"
   ]
  },
  {
   "cell_type": "markdown",
   "metadata": {},
   "source": [
    "Set maximum display row to 100"
   ]
  },
  {
   "cell_type": "code",
   "execution_count": 18,
   "metadata": {
    "collapsed": true
   },
   "outputs": [],
   "source": [
    "pd.set_option('display.max_rows', 100)"
   ]
  },
  {
   "cell_type": "code",
   "execution_count": 19,
   "metadata": {},
   "outputs": [
    {
     "data": {
      "text/plain": [
       "Date\n",
       "2004-08-19            NaN\n",
       "2004-08-20            NaN\n",
       "2004-08-23            NaN\n",
       "2004-08-24            NaN\n",
       "2004-08-25            NaN\n",
       "2004-08-26            NaN\n",
       "2004-08-27            NaN\n",
       "2004-08-30            NaN\n",
       "2004-08-31            NaN\n",
       "2004-09-01            NaN\n",
       "2004-09-02            NaN\n",
       "2004-09-03            NaN\n",
       "2004-09-07            NaN\n",
       "2004-09-08            NaN\n",
       "2004-09-09            NaN\n",
       "2004-09-10            NaN\n",
       "2004-09-13            NaN\n",
       "2004-09-14            NaN\n",
       "2004-09-15            NaN\n",
       "2004-09-16            NaN\n",
       "2004-09-17            NaN\n",
       "2004-09-20            NaN\n",
       "2004-09-21            NaN\n",
       "2004-09-22            NaN\n",
       "2004-09-23            NaN\n",
       "2004-09-24            NaN\n",
       "2004-09-27            NaN\n",
       "2004-09-28            NaN\n",
       "2004-09-29            NaN\n",
       "2004-09-30            NaN\n",
       "2004-10-01            NaN\n",
       "2004-10-04            NaN\n",
       "2004-10-05            NaN\n",
       "2004-10-06            NaN\n",
       "2004-10-07            NaN\n",
       "2004-10-08            NaN\n",
       "2004-10-11            NaN\n",
       "2004-10-12            NaN\n",
       "2004-10-13            NaN\n",
       "2004-10-14            NaN\n",
       "2004-10-15            NaN\n",
       "2004-10-18            NaN\n",
       "2004-10-19            NaN\n",
       "2004-10-20            NaN\n",
       "2004-10-21            NaN\n",
       "2004-10-22            NaN\n",
       "2004-10-25            NaN\n",
       "2004-10-26            NaN\n",
       "2004-10-27            NaN\n",
       "2004-10-28      63.586987\n",
       "                 ...     \n",
       "2018-11-07    1148.927998\n",
       "2018-11-08    1145.527598\n",
       "2018-11-09    1141.979199\n",
       "2018-11-12    1138.330398\n",
       "2018-11-13    1135.063596\n",
       "2018-11-14    1132.173196\n",
       "2018-11-15    1129.914397\n",
       "2018-11-16    1127.727998\n",
       "2018-11-19    1124.775198\n",
       "2018-11-20    1121.584397\n",
       "2018-11-21    1119.020998\n",
       "2018-11-23    1115.980198\n",
       "2018-11-26    1113.539397\n",
       "2018-11-27    1111.388398\n",
       "2018-11-28    1109.881999\n",
       "2018-11-29    1108.288198\n",
       "2018-11-30    1106.649800\n",
       "2018-12-03    1105.534600\n",
       "2018-12-04    1103.192798\n",
       "2018-12-06    1100.876597\n",
       "2018-12-07    1097.926995\n",
       "2018-12-10    1094.843396\n",
       "2018-12-11    1091.934797\n",
       "2018-12-12    1089.238796\n",
       "2018-12-13    1086.556797\n",
       "2018-12-14    1083.360395\n",
       "2018-12-17    1080.331997\n",
       "2018-12-18    1077.843599\n",
       "2018-12-19    1075.434397\n",
       "2018-12-20    1073.002596\n",
       "2018-12-21    1070.984396\n",
       "2018-12-24    1068.862996\n",
       "2018-12-26    1067.409194\n",
       "2018-12-27    1066.418396\n",
       "2018-12-28    1064.690398\n",
       "2018-12-31    1063.037798\n",
       "2019-01-02    1062.173198\n",
       "2019-01-03    1060.578997\n",
       "2019-01-04    1059.912996\n",
       "2019-01-07    1059.133196\n",
       "2019-01-08    1059.698196\n",
       "2019-01-09    1059.259397\n",
       "2019-01-10    1059.160996\n",
       "2019-01-11    1059.755796\n",
       "2019-01-14    1059.795796\n",
       "2019-01-15    1059.714397\n",
       "2019-01-16    1059.784998\n",
       "2019-01-17    1060.337598\n",
       "2019-01-18    1061.368999\n",
       "2019-01-22    1061.550200\n",
       "Name: Close, Length: 3631, dtype: float64"
      ]
     },
     "execution_count": 19,
     "metadata": {},
     "output_type": "execute_result"
    }
   ],
   "source": [
    "rol.mean()"
   ]
  },
  {
   "cell_type": "markdown",
   "metadata": {},
   "source": [
    "<b>Question 5</b><br/>\n",
    "Consider this investment strategy: buy on day x and then sell after 5 days (on day x+5). Find the expected profit (in %) of this operation. <i>Hint</i>: explore the method <i>shift</i>"
   ]
  },
  {
   "cell_type": "code",
   "execution_count": 20,
   "metadata": {},
   "outputs": [
    {
     "data": {
      "text/plain": [
       "Date\n",
       "2004-08-19    50.220219\n",
       "2004-08-20    54.209209\n",
       "2004-08-23    54.754753\n",
       "2004-08-24    52.487488\n",
       "2004-08-25    53.053055\n",
       "Name: Close, dtype: float64"
      ]
     },
     "execution_count": 20,
     "metadata": {},
     "output_type": "execute_result"
    }
   ],
   "source": [
    "stock.head()"
   ]
  },
  {
   "cell_type": "code",
   "execution_count": 21,
   "metadata": {},
   "outputs": [
    {
     "data": {
      "text/plain": [
       "Date\n",
       "2004-08-19    54.209209\n",
       "2004-08-20    54.754753\n",
       "2004-08-23    52.487488\n",
       "2004-08-24    53.053055\n",
       "2004-08-25    54.009010\n",
       "Name: Close, dtype: float64"
      ]
     },
     "execution_count": 21,
     "metadata": {},
     "output_type": "execute_result"
    }
   ],
   "source": [
    "stock.shift(-1).head()"
   ]
  },
  {
   "cell_type": "code",
   "execution_count": 22,
   "metadata": {},
   "outputs": [
    {
     "data": {
      "text/plain": [
       "Date\n",
       "2004-08-19    50.220219\n",
       "2004-08-20    54.209209\n",
       "2004-08-23    54.754753\n",
       "2004-08-24    52.487488\n",
       "2004-08-25    53.053055\n",
       "2004-08-26    54.009010\n",
       "Name: Close, dtype: float64"
      ]
     },
     "execution_count": 22,
     "metadata": {},
     "output_type": "execute_result"
    }
   ],
   "source": [
    "stock.head(6)"
   ]
  },
  {
   "cell_type": "code",
   "execution_count": 23,
   "metadata": {},
   "outputs": [
    {
     "data": {
      "text/plain": [
       "Date\n",
       "2004-08-19    54.00901\n",
       "Name: Close, dtype: float64"
      ]
     },
     "execution_count": 23,
     "metadata": {},
     "output_type": "execute_result"
    }
   ],
   "source": [
    "stock.shift(-5).head(1)"
   ]
  },
  {
   "cell_type": "code",
   "execution_count": 24,
   "metadata": {},
   "outputs": [
    {
     "data": {
      "text/plain": [
       "Date\n",
       "2004-08-19    54.00901\n",
       "Name: Close, dtype: float64"
      ]
     },
     "execution_count": 24,
     "metadata": {},
     "output_type": "execute_result"
    }
   ],
   "source": [
    "stock.shift(-5)[:1]"
   ]
  },
  {
   "cell_type": "code",
   "execution_count": 25,
   "metadata": {
    "collapsed": true
   },
   "outputs": [],
   "source": [
    "futurePrices = stock.shift(-5)"
   ]
  },
  {
   "cell_type": "code",
   "execution_count": 26,
   "metadata": {
    "collapsed": true
   },
   "outputs": [],
   "source": [
    "profits = (futurePrices - stock) / stock"
   ]
  },
  {
   "cell_type": "code",
   "execution_count": 27,
   "metadata": {},
   "outputs": [
    {
     "data": {
      "text/plain": [
       "0.005094049184215538"
      ]
     },
     "execution_count": 27,
     "metadata": {},
     "output_type": "execute_result"
    }
   ],
   "source": [
    "profits.mean()"
   ]
  },
  {
   "cell_type": "code",
   "execution_count": 28,
   "metadata": {},
   "outputs": [
    {
     "data": {
      "text/plain": [
       "count    3626.000000\n",
       "mean        0.005094\n",
       "std         0.043012\n",
       "min        -0.178787\n",
       "25%        -0.017896\n",
       "50%         0.005670\n",
       "75%         0.026741\n",
       "max         0.323724\n",
       "Name: Close, dtype: float64"
      ]
     },
     "execution_count": 28,
     "metadata": {},
     "output_type": "execute_result"
    }
   ],
   "source": [
    "profits.describe()"
   ]
  },
  {
   "cell_type": "markdown",
   "metadata": {},
   "source": [
    "So what exactly profit average means ?  Assuming invest $100 on day 1. "
   ]
  },
  {
   "cell_type": "code",
   "execution_count": 29,
   "metadata": {},
   "outputs": [
    {
     "data": {
      "text/plain": [
       "1849.6492587886617"
      ]
     },
     "execution_count": 29,
     "metadata": {},
     "output_type": "execute_result"
    }
   ],
   "source": [
    "100 * profits.mean() * len(stock)"
   ]
  },
  {
   "cell_type": "markdown",
   "metadata": {},
   "source": [
    "To be more precise .."
   ]
  },
  {
   "cell_type": "code",
   "execution_count": 30,
   "metadata": {},
   "outputs": [
    {
     "data": {
      "text/plain": [
       "1847.102234196554"
      ]
     },
     "execution_count": 30,
     "metadata": {},
     "output_type": "execute_result"
    }
   ],
   "source": [
    "100* profits.mean() * (len(stock)-5)"
   ]
  },
  {
   "cell_type": "markdown",
   "metadata": {},
   "source": [
    "<b>Question 6</b><br/>\n",
    "Consider this investment strategy: buy whenever the price goes above the 20-day moving average, and then sell after 5 trading sessions. How much profit (in %) would we make on average?"
   ]
  },
  {
   "cell_type": "code",
   "execution_count": 31,
   "metadata": {
    "collapsed": true
   },
   "outputs": [],
   "source": [
    "movavg = stock.rolling(20).mean()"
   ]
  },
  {
   "cell_type": "code",
   "execution_count": 32,
   "metadata": {
    "collapsed": true
   },
   "outputs": [],
   "source": [
    "profit = (stock.shift(-5) - stock) / stock"
   ]
  },
  {
   "cell_type": "code",
   "execution_count": 33,
   "metadata": {},
   "outputs": [
    {
     "data": {
      "text/plain": [
       "0.0054504754841887566"
      ]
     },
     "execution_count": 33,
     "metadata": {},
     "output_type": "execute_result"
    }
   ],
   "source": [
    "profit[stock > movavg].mean()"
   ]
  },
  {
   "cell_type": "code",
   "execution_count": 34,
   "metadata": {},
   "outputs": [
    {
     "data": {
      "text/plain": [
       "2108"
      ]
     },
     "execution_count": 34,
     "metadata": {},
     "output_type": "execute_result"
    }
   ],
   "source": [
    "total_days = len(profit[stock > movavg])\n",
    "total_days"
   ]
  },
  {
   "cell_type": "markdown",
   "metadata": {},
   "source": [
    "With the same $100.00 to start with, we get the profit ..."
   ]
  },
  {
   "cell_type": "code",
   "execution_count": 35,
   "metadata": {},
   "outputs": [
    {
     "data": {
      "text/plain": [
       "1148.9602320669899"
      ]
     },
     "execution_count": 35,
     "metadata": {},
     "output_type": "execute_result"
    }
   ],
   "source": [
    "100 * 0.0054504754841887566 * total_days"
   ]
  },
  {
   "cell_type": "markdown",
   "metadata": {},
   "source": [
    "## Median prices of single family homes in zip code 95050"
   ]
  },
  {
   "cell_type": "markdown",
   "metadata": {},
   "source": [
    "The file <i>santaclara_sfh.csv</i> was downloaded from <a href= 'http://redfin.com'>redfin.com</a>. For each end of month day, this file reports the median price of a single family home (sfh) in zip code 95050 over the previous 3 months. The data starts from 2012-01-31 and ends on recent month."
   ]
  },
  {
   "cell_type": "markdown",
   "metadata": {},
   "source": [
    "The following code loads and cleans the data set <i>santaclara_sfh.csv</i>, which you should copy into the same folder as this Jupyter notebook. For the moment, do not worry about understanding the code."
   ]
  },
  {
   "cell_type": "code",
   "execution_count": 36,
   "metadata": {
    "collapsed": true
   },
   "outputs": [],
   "source": [
    "# don't worry about understanding this code\n",
    "df = pd.read_csv('santaclara_sfh.csv')\n",
    "# make the date column of type datetime\n",
    "df['date'] = pd.to_datetime(df.date)\n",
    "# make the price column of type float\n",
    "df['median_sfh_price_past_3_months'] = \\\n",
    "    df.median_sfh_price_past_3_months + 0.0 \n",
    "# make date the index \n",
    "df.set_index('date',inplace=True) \n",
    "# take the series of median prices\n",
    "housing = df['median_sfh_price_past_3_months']\n",
    "housing.name = 'housing'"
   ]
  },
  {
   "cell_type": "markdown",
   "metadata": {},
   "source": [
    "Let's take a look at the oldest prices"
   ]
  },
  {
   "cell_type": "code",
   "execution_count": 37,
   "metadata": {},
   "outputs": [
    {
     "data": {
      "text/plain": [
       "date\n",
       "2012-01-31    485000.0\n",
       "2012-02-29    528000.0\n",
       "2012-03-31    568000.0\n",
       "2012-04-30    620000.0\n",
       "2012-05-31    630000.0\n",
       "Name: housing, dtype: float64"
      ]
     },
     "execution_count": 37,
     "metadata": {},
     "output_type": "execute_result"
    }
   ],
   "source": [
    "housing.head()"
   ]
  },
  {
   "cell_type": "markdown",
   "metadata": {},
   "source": [
    "Remember that each price is the median over the previous three months. So, for example, the median sale price in the period from 2012-02-01 to 2012-04-30 was $620,000. Let's plot it."
   ]
  },
  {
   "cell_type": "code",
   "execution_count": 38,
   "metadata": {},
   "outputs": [
    {
     "data": {
      "text/plain": [
       "<matplotlib.axes._subplots.AxesSubplot at 0x10e716eb8>"
      ]
     },
     "execution_count": 38,
     "metadata": {},
     "output_type": "execute_result"
    },
    {
     "data": {
      "image/png": "[encoded data removed]",
      "text/plain": [
       "<Figure size 432x288 with 1 Axes>"
      ]
     },
     "metadata": {},
     "output_type": "display_data"
    }
   ],
   "source": [
    "housing.plot()"
   ]
  },
  {
   "cell_type": "markdown",
   "metadata": {},
   "source": [
    "## Are housing prices correlated to stock prices?"
   ]
  },
  {
   "cell_type": "markdown",
   "metadata": {},
   "source": [
    "<p>To anwer this question, we first need to align the two Series. The Series <i>housing</i> has one entry for each ending day of each month and a value that is the 3-month moving average; the series <i>stock</i> has one entry for each <b>trading day</b> and the value that is the closing price. </p>\n",
    "<p>To align the two Series, we will create a new Series of stock prices that has only one entry for every month-end-day and reports the 3-month moving median price of the stock</p>"
   ]
  },
  {
   "cell_type": "markdown",
   "metadata": {},
   "source": [
    "<p>We will do the following:\n",
    "<ol>\n",
    "<li>Pad <i>stock</i> so that there are no missing days (currently, holidays are missing)\n",
    "<li>Compute the 3-month moving median of <i>stock</i>\n",
    "<li>Retain only the end-of-month days in <i>stock</i>\n",
    "</ol>\n",
    "</p>\n"
   ]
  },
  {
   "cell_type": "markdown",
   "metadata": {},
   "source": [
    "#### Step #1: Pad stock so that there are no missing days (currently, holidays are missing)"
   ]
  },
  {
   "cell_type": "code",
   "execution_count": 39,
   "metadata": {
    "collapsed": true,
    "scrolled": true
   },
   "outputs": [],
   "source": [
    "padded = stock.asfreq(freq='1D', method='ffill')"
   ]
  },
  {
   "cell_type": "code",
   "execution_count": 40,
   "metadata": {},
   "outputs": [
    {
     "data": {
      "text/plain": [
       "Date\n",
       "2004-08-19    50.220219\n",
       "2004-08-20    54.209209\n",
       "2004-08-23    54.754753\n",
       "2004-08-24    52.487488\n",
       "2004-08-25    53.053055\n",
       "2004-08-26    54.009010\n",
       "2004-08-27    53.128128\n",
       "2004-08-30    51.056057\n",
       "2004-08-31    51.236237\n",
       "2004-09-01    50.175175\n",
       "Name: Close, dtype: float64"
      ]
     },
     "execution_count": 40,
     "metadata": {},
     "output_type": "execute_result"
    }
   ],
   "source": [
    "stock[:10]"
   ]
  },
  {
   "cell_type": "code",
   "execution_count": 41,
   "metadata": {},
   "outputs": [
    {
     "data": {
      "text/plain": [
       "Date\n",
       "2004-08-19    50.220219\n",
       "2004-08-20    54.209209\n",
       "2004-08-21    54.209209\n",
       "2004-08-22    54.209209\n",
       "2004-08-23    54.754753\n",
       "2004-08-24    52.487488\n",
       "2004-08-25    53.053055\n",
       "2004-08-26    54.009010\n",
       "2004-08-27    53.128128\n",
       "2004-08-28    53.128128\n",
       "2004-08-29    53.128128\n",
       "2004-08-30    51.056057\n",
       "2004-08-31    51.236237\n",
       "2004-09-01    50.175175\n",
       "2004-09-02    50.805805\n",
       "2004-09-03    50.055054\n",
       "2004-09-04    50.055054\n",
       "2004-09-05    50.055054\n",
       "2004-09-06    50.055054\n",
       "2004-09-07    50.840839\n",
       "Freq: D, Name: Close, dtype: float64"
      ]
     },
     "execution_count": 41,
     "metadata": {},
     "output_type": "execute_result"
    }
   ],
   "source": [
    "padded[:20]"
   ]
  },
  {
   "cell_type": "markdown",
   "metadata": {},
   "source": [
    "#### Step #2: Compute the 90-day moving median of stock"
   ]
  },
  {
   "cell_type": "code",
   "execution_count": 42,
   "metadata": {
    "collapsed": true
   },
   "outputs": [],
   "source": [
    "movmed = padded.rolling(90).median()"
   ]
  },
  {
   "cell_type": "code",
   "execution_count": 43,
   "metadata": {},
   "outputs": [
    {
     "data": {
      "text/plain": [
       "Date\n",
       "2004-11-07          NaN\n",
       "2004-11-08          NaN\n",
       "2004-11-09          NaN\n",
       "2004-11-10          NaN\n",
       "2004-11-11          NaN\n",
       "2004-11-12          NaN\n",
       "2004-11-13          NaN\n",
       "2004-11-14          NaN\n",
       "2004-11-15          NaN\n",
       "2004-11-16    66.356354\n",
       "2004-11-17    66.976975\n",
       "2004-11-18    67.647648\n",
       "2004-11-19    68.153156\n",
       "2004-11-20    68.688690\n",
       "2004-11-21    68.851353\n",
       "2004-11-22    68.933937\n",
       "2004-11-23    68.933937\n",
       "2004-11-24    69.094097\n",
       "2004-11-25    69.374375\n",
       "2004-11-26    69.904904\n",
       "Freq: D, Name: Close, dtype: float64"
      ]
     },
     "execution_count": 43,
     "metadata": {},
     "output_type": "execute_result"
    }
   ],
   "source": [
    "movmed[80:100]"
   ]
  },
  {
   "cell_type": "markdown",
   "metadata": {},
   "source": [
    "#### Step #3: Retain the same days as in the housing Series"
   ]
  },
  {
   "cell_type": "code",
   "execution_count": 44,
   "metadata": {},
   "outputs": [
    {
     "data": {
      "text/plain": [
       "DatetimeIndex(['2012-01-31', '2012-02-29', '2012-03-31', '2012-04-30',\n",
       "               '2012-05-31', '2012-06-30', '2012-07-31', '2012-08-31',\n",
       "               '2012-09-30', '2012-10-31'],\n",
       "              dtype='datetime64[ns]', name='date', freq=None)"
      ]
     },
     "execution_count": 44,
     "metadata": {},
     "output_type": "execute_result"
    }
   ],
   "source": [
    "housing.index[:10]"
   ]
  },
  {
   "cell_type": "code",
   "execution_count": 45,
   "metadata": {
    "collapsed": true
   },
   "outputs": [],
   "source": [
    "mod_stock = movmed[housing.index]"
   ]
  },
  {
   "cell_type": "code",
   "execution_count": 46,
   "metadata": {},
   "outputs": [
    {
     "data": {
      "text/plain": [
       "date\n",
       "2012-01-31    310.490479\n",
       "2012-02-29    310.490479\n",
       "2012-03-31    306.856857\n",
       "2012-04-30    307.369873\n",
       "2012-05-31    306.919419\n",
       "2012-06-30    300.225219\n",
       "2012-07-31    293.290802\n",
       "2012-08-31    295.518006\n",
       "2012-09-30    335.017517\n",
       "2012-10-31    342.887878\n",
       "Name: Close, dtype: float64"
      ]
     },
     "execution_count": 46,
     "metadata": {},
     "output_type": "execute_result"
    }
   ],
   "source": [
    "mod_stock[:10]"
   ]
  },
  {
   "cell_type": "markdown",
   "metadata": {},
   "source": [
    "### Compute correlation"
   ]
  },
  {
   "cell_type": "markdown",
   "metadata": {},
   "source": [
    "Are stock and housing prices correlated?"
   ]
  },
  {
   "cell_type": "code",
   "execution_count": 47,
   "metadata": {},
   "outputs": [
    {
     "data": {
      "text/plain": [
       "0.9568121032114738"
      ]
     },
     "execution_count": 47,
     "metadata": {},
     "output_type": "execute_result"
    }
   ],
   "source": [
    "housing.corr(mod_stock)"
   ]
  },
  {
   "cell_type": "markdown",
   "metadata": {},
   "source": [
    "Uh... yes, they are strongly correlated"
   ]
  },
  {
   "cell_type": "markdown",
   "metadata": {},
   "source": [
    "Let's plot them"
   ]
  },
  {
   "cell_type": "code",
   "execution_count": 48,
   "metadata": {},
   "outputs": [
    {
     "data": {
      "text/plain": [
       "[<matplotlib.lines.Line2D at 0x10e796eb8>]"
      ]
     },
     "execution_count": 48,
     "metadata": {},
     "output_type": "execute_result"
    },
    {
     "data": {
      "text/plain": [
       "[<matplotlib.lines.Line2D at 0x10e796668>]"
      ]
     },
     "execution_count": 48,
     "metadata": {},
     "output_type": "execute_result"
    },
    {
     "data": {
      "text/plain": [
       "<matplotlib.legend.Legend at 0x10e7c6978>"
      ]
     },
     "execution_count": 48,
     "metadata": {},
     "output_type": "execute_result"
    },
    {
     "data": {
      "image/png": "[encoded data removed]",
      "text/plain": [
       "<Figure size 432x288 with 1 Axes>"
      ]
     },
     "metadata": {},
     "output_type": "display_data"
    }
   ],
   "source": [
    "import matplotlib.pyplot as plt\n",
    "\n",
    "plt.plot(mod_stock,'b')  # b for \"blue\"\n",
    "plt.plot(housing,'r') # r for \"red\" \n",
    "plt.legend(loc=2)\n",
    "plt.show()"
   ]
  },
  {
   "cell_type": "markdown",
   "metadata": {},
   "source": [
    "mmm... the problem is that the two scales are very different: housing is about 1M dollars while the stock price is in the order of hundreds of dollars. "
   ]
  },
  {
   "cell_type": "markdown",
   "metadata": {},
   "source": [
    "Let's normalize them so that the value on the first day (2012-01-31) is 1 for both series."
   ]
  },
  {
   "cell_type": "code",
   "execution_count": 49,
   "metadata": {
    "collapsed": true
   },
   "outputs": [],
   "source": [
    "norm_stock = mod_stock / mod_stock[0]"
   ]
  },
  {
   "cell_type": "code",
   "execution_count": 50,
   "metadata": {
    "collapsed": true
   },
   "outputs": [],
   "source": [
    "norm_housing = housing / housing.iloc[0]"
   ]
  },
  {
   "cell_type": "code",
   "execution_count": 51,
   "metadata": {},
   "outputs": [
    {
     "data": {
      "text/plain": [
       "[<matplotlib.lines.Line2D at 0x10ecc3780>]"
      ]
     },
     "execution_count": 51,
     "metadata": {},
     "output_type": "execute_result"
    },
    {
     "data": {
      "text/plain": [
       "[<matplotlib.lines.Line2D at 0x10ece7400>]"
      ]
     },
     "execution_count": 51,
     "metadata": {},
     "output_type": "execute_result"
    },
    {
     "data": {
      "text/plain": [
       "<matplotlib.legend.Legend at 0x10ece7438>"
      ]
     },
     "execution_count": 51,
     "metadata": {},
     "output_type": "execute_result"
    },
    {
     "data": {
      "image/png": "[encoded data removed]",
      "text/plain": [
       "<Figure size 432x288 with 1 Axes>"
      ]
     },
     "metadata": {},
     "output_type": "display_data"
    }
   ],
   "source": [
    "import matplotlib.pyplot as plt\n",
    "plt.plot(norm_stock,'b')  # b for \"blue\"\n",
    "plt.plot(norm_housing,'r') # r for \"red\" \n",
    "plt.legend(loc=2)\n",
    "plt.show()"
   ]
  },
  {
   "cell_type": "markdown",
   "metadata": {},
   "source": [
    "Assign a name for the plot legend for stock (instead of column name 'Close')"
   ]
  },
  {
   "cell_type": "code",
   "execution_count": 52,
   "metadata": {
    "collapsed": true
   },
   "outputs": [],
   "source": [
    "norm_stock.name = 'stock'"
   ]
  },
  {
   "cell_type": "code",
   "execution_count": 53,
   "metadata": {},
   "outputs": [
    {
     "data": {
      "text/plain": [
       "[<matplotlib.lines.Line2D at 0x10ee3ebe0>]"
      ]
     },
     "execution_count": 53,
     "metadata": {},
     "output_type": "execute_result"
    },
    {
     "data": {
      "text/plain": [
       "[<matplotlib.lines.Line2D at 0x10ee2cef0>]"
      ]
     },
     "execution_count": 53,
     "metadata": {},
     "output_type": "execute_result"
    },
    {
     "data": {
      "text/plain": [
       "<matplotlib.legend.Legend at 0x10edaf5c0>"
      ]
     },
     "execution_count": 53,
     "metadata": {},
     "output_type": "execute_result"
    },
    {
     "data": {
      "image/png": "[encoded data removed]",
      "text/plain": [
       "<Figure size 432x288 with 1 Axes>"
      ]
     },
     "metadata": {},
     "output_type": "display_data"
    }
   ],
   "source": [
    "plt.plot(norm_stock,'b')  # b for \"blue\"\n",
    "plt.plot(norm_housing,'r') # r for \"red\" \n",
    "plt.legend(loc=2)\n",
    "plt.show()"
   ]
  },
  {
   "cell_type": "code",
   "execution_count": null,
   "metadata": {
    "collapsed": true
   },
   "outputs": [],
   "source": []
  }
 ],
 "metadata": {
  "kernelspec": {
   "display_name": "Python 3",
   "language": "python",
   "name": "python3"
  },
  "language_info": {
   "codemirror_mode": {
    "name": "ipython",
    "version": 3
   },
   "file_extension": ".py",
   "mimetype": "text/x-python",
   "name": "python",
   "nbconvert_exporter": "python",
   "pygments_lexer": "ipython3",
   "version": "3.7.4"
  }
 },
 "nbformat": 4,
 "nbformat_minor": 1
}
