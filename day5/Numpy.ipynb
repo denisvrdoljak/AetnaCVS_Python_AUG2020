{
 "cells": [
  {
   "cell_type": "code",
   "execution_count": 13,
   "metadata": {},
   "outputs": [],
   "source": [
    "import pandas as pd\n",
    "import numpy as np"
   ]
  },
  {
   "cell_type": "code",
   "execution_count": 4,
   "metadata": {},
   "outputs": [
    {
     "data": {
      "text/html": [
       "<div>\n",
       "<style scoped>\n",
       "    .dataframe tbody tr th:only-of-type {\n",
       "        vertical-align: middle;\n",
       "    }\n",
       "\n",
       "    .dataframe tbody tr th {\n",
       "        vertical-align: top;\n",
       "    }\n",
       "\n",
       "    .dataframe thead th {\n",
       "        text-align: right;\n",
       "    }\n",
       "</style>\n",
       "<table border=\"1\" class=\"dataframe\">\n",
       "  <thead>\n",
       "    <tr style=\"text-align: right;\">\n",
       "      <th></th>\n",
       "      <th>age_group</th>\n",
       "      <th>aggtype</th>\n",
       "      <th>Charges</th>\n",
       "    </tr>\n",
       "  </thead>\n",
       "  <tbody>\n",
       "    <tr>\n",
       "      <td>0</td>\n",
       "      <td>(17.999, 21.0]</td>\n",
       "      <td>count</td>\n",
       "      <td>1.940000e+02</td>\n",
       "    </tr>\n",
       "    <tr>\n",
       "      <td>1</td>\n",
       "      <td>(17.999, 21.0]</td>\n",
       "      <td>sum</td>\n",
       "      <td>1.578891e+06</td>\n",
       "    </tr>\n",
       "    <tr>\n",
       "      <td>2</td>\n",
       "      <td>(17.999, 21.0]</td>\n",
       "      <td>mean</td>\n",
       "      <td>8.138614e+03</td>\n",
       "    </tr>\n",
       "    <tr>\n",
       "      <td>3</td>\n",
       "      <td>(21.0, 27.0]</td>\n",
       "      <td>count</td>\n",
       "      <td>1.680000e+02</td>\n",
       "    </tr>\n",
       "    <tr>\n",
       "      <td>4</td>\n",
       "      <td>(21.0, 27.0]</td>\n",
       "      <td>sum</td>\n",
       "      <td>1.714655e+06</td>\n",
       "    </tr>\n",
       "  </tbody>\n",
       "</table>\n",
       "</div>"
      ],
      "text/plain": [
       "        age_group aggtype       Charges\n",
       "0  (17.999, 21.0]   count  1.940000e+02\n",
       "1  (17.999, 21.0]     sum  1.578891e+06\n",
       "2  (17.999, 21.0]    mean  8.138614e+03\n",
       "3    (21.0, 27.0]   count  1.680000e+02\n",
       "4    (21.0, 27.0]     sum  1.714655e+06"
      ]
     },
     "execution_count": 4,
     "metadata": {},
     "output_type": "execute_result"
    }
   ],
   "source": [
    "df = pd.read_csv(\"charges_by_agegroup.csv\")\n",
    "df.head()"
   ]
  },
  {
   "cell_type": "code",
   "execution_count": 5,
   "metadata": {},
   "outputs": [
    {
     "data": {
      "text/html": [
       "<div>\n",
       "<style scoped>\n",
       "    .dataframe tbody tr th:only-of-type {\n",
       "        vertical-align: middle;\n",
       "    }\n",
       "\n",
       "    .dataframe tbody tr th {\n",
       "        vertical-align: top;\n",
       "    }\n",
       "\n",
       "    .dataframe thead th {\n",
       "        text-align: right;\n",
       "    }\n",
       "</style>\n",
       "<table border=\"1\" class=\"dataframe\">\n",
       "  <thead>\n",
       "    <tr style=\"text-align: right;\">\n",
       "      <th></th>\n",
       "      <th>0</th>\n",
       "      <th>1</th>\n",
       "      <th>2</th>\n",
       "      <th>3</th>\n",
       "      <th>4</th>\n",
       "      <th>5</th>\n",
       "      <th>6</th>\n",
       "      <th>7</th>\n",
       "      <th>8</th>\n",
       "      <th>9</th>\n",
       "      <th>...</th>\n",
       "      <th>14</th>\n",
       "      <th>15</th>\n",
       "      <th>16</th>\n",
       "      <th>17</th>\n",
       "      <th>18</th>\n",
       "      <th>19</th>\n",
       "      <th>20</th>\n",
       "      <th>21</th>\n",
       "      <th>22</th>\n",
       "      <th>23</th>\n",
       "    </tr>\n",
       "  </thead>\n",
       "  <tbody>\n",
       "    <tr>\n",
       "      <td>age_group</td>\n",
       "      <td>(17.999, 21.0]</td>\n",
       "      <td>(17.999, 21.0]</td>\n",
       "      <td>(17.999, 21.0]</td>\n",
       "      <td>(21.0, 27.0]</td>\n",
       "      <td>(21.0, 27.0]</td>\n",
       "      <td>(21.0, 27.0]</td>\n",
       "      <td>(27.0, 33.0]</td>\n",
       "      <td>(27.0, 33.0]</td>\n",
       "      <td>(27.0, 33.0]</td>\n",
       "      <td>(33.0, 39.0]</td>\n",
       "      <td>...</td>\n",
       "      <td>(39.0, 45.0]</td>\n",
       "      <td>(45.0, 51.0]</td>\n",
       "      <td>(45.0, 51.0]</td>\n",
       "      <td>(45.0, 51.0]</td>\n",
       "      <td>(51.0, 57.0]</td>\n",
       "      <td>(51.0, 57.0]</td>\n",
       "      <td>(51.0, 57.0]</td>\n",
       "      <td>(57.0, 64.0]</td>\n",
       "      <td>(57.0, 64.0]</td>\n",
       "      <td>(57.0, 64.0]</td>\n",
       "    </tr>\n",
       "    <tr>\n",
       "      <td>aggtype</td>\n",
       "      <td>count</td>\n",
       "      <td>sum</td>\n",
       "      <td>mean</td>\n",
       "      <td>count</td>\n",
       "      <td>sum</td>\n",
       "      <td>mean</td>\n",
       "      <td>count</td>\n",
       "      <td>sum</td>\n",
       "      <td>mean</td>\n",
       "      <td>count</td>\n",
       "      <td>...</td>\n",
       "      <td>mean</td>\n",
       "      <td>count</td>\n",
       "      <td>sum</td>\n",
       "      <td>mean</td>\n",
       "      <td>count</td>\n",
       "      <td>sum</td>\n",
       "      <td>mean</td>\n",
       "      <td>count</td>\n",
       "      <td>sum</td>\n",
       "      <td>mean</td>\n",
       "    </tr>\n",
       "    <tr>\n",
       "      <td>Charges</td>\n",
       "      <td>194</td>\n",
       "      <td>1.57889e+06</td>\n",
       "      <td>8138.61</td>\n",
       "      <td>168</td>\n",
       "      <td>1.71465e+06</td>\n",
       "      <td>10206.3</td>\n",
       "      <td>161</td>\n",
       "      <td>1.71515e+06</td>\n",
       "      <td>10653.1</td>\n",
       "      <td>151</td>\n",
       "      <td>...</td>\n",
       "      <td>14083.2</td>\n",
       "      <td>173</td>\n",
       "      <td>2.61674e+06</td>\n",
       "      <td>15125.7</td>\n",
       "      <td>163</td>\n",
       "      <td>2.74183e+06</td>\n",
       "      <td>16821</td>\n",
       "      <td>164</td>\n",
       "      <td>3.24164e+06</td>\n",
       "      <td>19766.1</td>\n",
       "    </tr>\n",
       "  </tbody>\n",
       "</table>\n",
       "<p>3 rows × 24 columns</p>\n",
       "</div>"
      ],
      "text/plain": [
       "                       0               1               2             3   \\\n",
       "age_group  (17.999, 21.0]  (17.999, 21.0]  (17.999, 21.0]  (21.0, 27.0]   \n",
       "aggtype             count             sum            mean         count   \n",
       "Charges               194     1.57889e+06         8138.61           168   \n",
       "\n",
       "                     4             5             6             7   \\\n",
       "age_group  (21.0, 27.0]  (21.0, 27.0]  (27.0, 33.0]  (27.0, 33.0]   \n",
       "aggtype             sum          mean         count           sum   \n",
       "Charges     1.71465e+06       10206.3           161   1.71515e+06   \n",
       "\n",
       "                     8             9   ...            14            15  \\\n",
       "age_group  (27.0, 33.0]  (33.0, 39.0]  ...  (39.0, 45.0]  (45.0, 51.0]   \n",
       "aggtype            mean         count  ...          mean         count   \n",
       "Charges         10653.1           151  ...       14083.2           173   \n",
       "\n",
       "                     16            17            18            19  \\\n",
       "age_group  (45.0, 51.0]  (45.0, 51.0]  (51.0, 57.0]  (51.0, 57.0]   \n",
       "aggtype             sum          mean         count           sum   \n",
       "Charges     2.61674e+06       15125.7           163   2.74183e+06   \n",
       "\n",
       "                     20            21            22            23  \n",
       "age_group  (51.0, 57.0]  (57.0, 64.0]  (57.0, 64.0]  (57.0, 64.0]  \n",
       "aggtype            mean         count           sum          mean  \n",
       "Charges           16821           164   3.24164e+06       19766.1  \n",
       "\n",
       "[3 rows x 24 columns]"
      ]
     },
     "execution_count": 5,
     "metadata": {},
     "output_type": "execute_result"
    }
   ],
   "source": [
    "df.T"
   ]
  },
  {
   "cell_type": "code",
   "execution_count": 6,
   "metadata": {},
   "outputs": [
    {
     "data": {
      "text/plain": [
       "RangeIndex(start=0, stop=24, step=1)"
      ]
     },
     "execution_count": 6,
     "metadata": {},
     "output_type": "execute_result"
    }
   ],
   "source": [
    "df.T.columns"
   ]
  },
  {
   "cell_type": "code",
   "execution_count": 7,
   "metadata": {},
   "outputs": [
    {
     "data": {
      "text/plain": [
       "Index(['age_group', 'aggtype', 'Charges'], dtype='object')"
      ]
     },
     "execution_count": 7,
     "metadata": {},
     "output_type": "execute_result"
    }
   ],
   "source": [
    "df.T.index"
   ]
  },
  {
   "cell_type": "code",
   "execution_count": 8,
   "metadata": {},
   "outputs": [
    {
     "data": {
      "text/plain": [
       "array([['(17.999, 21.0]', 'count', 194.0],\n",
       "       ['(17.999, 21.0]', 'sum', 1578891.0817189997],\n",
       "       ['(17.999, 21.0]', 'mean', 8138.613823293814],\n",
       "       ['(21.0, 27.0]', 'count', 168.0],\n",
       "       ['(21.0, 27.0]', 'sum', 1714654.5120400009],\n",
       "       ['(21.0, 27.0]', 'mean', 10206.276857380955],\n",
       "       ['(27.0, 33.0]', 'count', 161.0],\n",
       "       ['(27.0, 33.0]', 'sum', 1715153.6578099998],\n",
       "       ['(27.0, 33.0]', 'mean', 10653.128309378879],\n",
       "       ['(33.0, 39.0]', 'count', 151.0],\n",
       "       ['(33.0, 39.0]', 'sum', 1837265.397780001],\n",
       "       ['(33.0, 39.0]', 'mean', 12167.320515099344],\n",
       "       ['(39.0, 45.0]', 'count', 164.0],\n",
       "       ['(39.0, 45.0]', 'sum', 2309645.98929],\n",
       "       ['(39.0, 45.0]', 'mean', 14083.207251768292],\n",
       "       ['(45.0, 51.0]', 'count', 173.0],\n",
       "       ['(45.0, 51.0]', 'sum', 2616744.3208999992],\n",
       "       ['(45.0, 51.0]', 'mean', 15125.689716184968],\n",
       "       ['(51.0, 57.0]', 'count', 163.0],\n",
       "       ['(51.0, 57.0]', 'sum', 2741825.59526],\n",
       "       ['(51.0, 57.0]', 'mean', 16821.01592184049],\n",
       "       ['(57.0, 64.0]', 'count', 164.0],\n",
       "       ['(57.0, 64.0]', 'sum', 3241644.43596],\n",
       "       ['(57.0, 64.0]', 'mean', 19766.124609512193]], dtype=object)"
      ]
     },
     "execution_count": 8,
     "metadata": {},
     "output_type": "execute_result"
    }
   ],
   "source": [
    "df.values"
   ]
  },
  {
   "cell_type": "code",
   "execution_count": 9,
   "metadata": {},
   "outputs": [
    {
     "data": {
      "text/plain": [
       "numpy.ndarray"
      ]
     },
     "execution_count": 9,
     "metadata": {},
     "output_type": "execute_result"
    }
   ],
   "source": [
    "type(df.values)"
   ]
  },
  {
   "cell_type": "code",
   "execution_count": 10,
   "metadata": {},
   "outputs": [
    {
     "data": {
      "text/plain": [
       "array([['(17.999, 21.0]', 'count', 194.0],\n",
       "       ['(17.999, 21.0]', 'sum', 1578891.0817189997],\n",
       "       ['(17.999, 21.0]', 'mean', 8138.613823293814],\n",
       "       ['(21.0, 27.0]', 'count', 168.0],\n",
       "       ['(21.0, 27.0]', 'sum', 1714654.5120400009],\n",
       "       ['(21.0, 27.0]', 'mean', 10206.276857380955],\n",
       "       ['(27.0, 33.0]', 'count', 161.0],\n",
       "       ['(27.0, 33.0]', 'sum', 1715153.6578099998],\n",
       "       ['(27.0, 33.0]', 'mean', 10653.128309378879],\n",
       "       ['(33.0, 39.0]', 'count', 151.0],\n",
       "       ['(33.0, 39.0]', 'sum', 1837265.397780001],\n",
       "       ['(33.0, 39.0]', 'mean', 12167.320515099344],\n",
       "       ['(39.0, 45.0]', 'count', 164.0],\n",
       "       ['(39.0, 45.0]', 'sum', 2309645.98929],\n",
       "       ['(39.0, 45.0]', 'mean', 14083.207251768292],\n",
       "       ['(45.0, 51.0]', 'count', 173.0],\n",
       "       ['(45.0, 51.0]', 'sum', 2616744.3208999992],\n",
       "       ['(45.0, 51.0]', 'mean', 15125.689716184968],\n",
       "       ['(51.0, 57.0]', 'count', 163.0],\n",
       "       ['(51.0, 57.0]', 'sum', 2741825.59526],\n",
       "       ['(51.0, 57.0]', 'mean', 16821.01592184049],\n",
       "       ['(57.0, 64.0]', 'count', 164.0],\n",
       "       ['(57.0, 64.0]', 'sum', 3241644.43596],\n",
       "       ['(57.0, 64.0]', 'mean', 19766.124609512193]], dtype=object)"
      ]
     },
     "execution_count": 10,
     "metadata": {},
     "output_type": "execute_result"
    }
   ],
   "source": [
    "nparray = df.values\n",
    "nparray"
   ]
  },
  {
   "cell_type": "code",
   "execution_count": 11,
   "metadata": {},
   "outputs": [
    {
     "data": {
      "text/plain": [
       "array([['(17.999, 21.0]', '(17.999, 21.0]', '(17.999, 21.0]',\n",
       "        '(21.0, 27.0]', '(21.0, 27.0]', '(21.0, 27.0]', '(27.0, 33.0]',\n",
       "        '(27.0, 33.0]', '(27.0, 33.0]', '(33.0, 39.0]', '(33.0, 39.0]',\n",
       "        '(33.0, 39.0]', '(39.0, 45.0]', '(39.0, 45.0]', '(39.0, 45.0]',\n",
       "        '(45.0, 51.0]', '(45.0, 51.0]', '(45.0, 51.0]', '(51.0, 57.0]',\n",
       "        '(51.0, 57.0]', '(51.0, 57.0]', '(57.0, 64.0]', '(57.0, 64.0]',\n",
       "        '(57.0, 64.0]'],\n",
       "       ['count', 'sum', 'mean', 'count', 'sum', 'mean', 'count', 'sum',\n",
       "        'mean', 'count', 'sum', 'mean', 'count', 'sum', 'mean', 'count',\n",
       "        'sum', 'mean', 'count', 'sum', 'mean', 'count', 'sum', 'mean'],\n",
       "       [194.0, 1578891.0817189997, 8138.613823293814, 168.0,\n",
       "        1714654.5120400009, 10206.276857380955, 161.0,\n",
       "        1715153.6578099998, 10653.128309378879, 151.0, 1837265.397780001,\n",
       "        12167.320515099344, 164.0, 2309645.98929, 14083.207251768292,\n",
       "        173.0, 2616744.3208999992, 15125.689716184968, 163.0,\n",
       "        2741825.59526, 16821.01592184049, 164.0, 3241644.43596,\n",
       "        19766.124609512193]], dtype=object)"
      ]
     },
     "execution_count": 11,
     "metadata": {},
     "output_type": "execute_result"
    }
   ],
   "source": [
    "nparray.T"
   ]
  },
  {
   "cell_type": "code",
   "execution_count": 16,
   "metadata": {},
   "outputs": [
    {
     "data": {
      "text/plain": [
       "array([[0., 0., 0.],\n",
       "       [0., 0., 0.]])"
      ]
     },
     "execution_count": 16,
     "metadata": {},
     "output_type": "execute_result"
    }
   ],
   "source": [
    "np.zeros((2,3))"
   ]
  },
  {
   "cell_type": "code",
   "execution_count": 19,
   "metadata": {},
   "outputs": [
    {
     "data": {
      "text/plain": [
       "array([[1., 1., 1.],\n",
       "       [1., 1., 1.]])"
      ]
     },
     "execution_count": 19,
     "metadata": {},
     "output_type": "execute_result"
    }
   ],
   "source": [
    "np.ones((2,3))"
   ]
  },
  {
   "cell_type": "code",
   "execution_count": 20,
   "metadata": {},
   "outputs": [
    {
     "data": {
      "text/plain": [
       "array([[1., 1., 1.],\n",
       "       [1., 1., 1.]])"
      ]
     },
     "execution_count": 20,
     "metadata": {},
     "output_type": "execute_result"
    }
   ],
   "source": [
    "np.empty((2,3))"
   ]
  },
  {
   "cell_type": "code",
   "execution_count": 23,
   "metadata": {},
   "outputs": [
    {
     "data": {
      "text/plain": [
       "array([[0, 0, 0],\n",
       "       [0, 0, 0]], dtype=uint32)"
      ]
     },
     "execution_count": 23,
     "metadata": {},
     "output_type": "execute_result"
    }
   ],
   "source": [
    "np.zeros((2,3),dtype=np.uint32)"
   ]
  },
  {
   "cell_type": "code",
   "execution_count": 27,
   "metadata": {},
   "outputs": [
    {
     "data": {
      "text/plain": [
       "array([[8, 8, 8],\n",
       "       [8, 8, 8]])"
      ]
     },
     "execution_count": 27,
     "metadata": {},
     "output_type": "execute_result"
    }
   ],
   "source": [
    "np.full((2,3),8)"
   ]
  },
  {
   "cell_type": "code",
   "execution_count": 28,
   "metadata": {},
   "outputs": [
    {
     "data": {
      "text/plain": [
       "array([[nan, nan, nan, nan, nan, nan, nan, nan, nan, nan],\n",
       "       [nan, nan, nan, nan, nan, nan, nan, nan, nan, nan],\n",
       "       [nan, nan, nan, nan, nan, nan, nan, nan, nan, nan],\n",
       "       [nan, nan, nan, nan, nan, nan, nan, nan, nan, nan],\n",
       "       [nan, nan, nan, nan, nan, nan, nan, nan, nan, nan]])"
      ]
     },
     "execution_count": 28,
     "metadata": {},
     "output_type": "execute_result"
    }
   ],
   "source": [
    "np.full((5,10),np.NaN)"
   ]
  },
  {
   "cell_type": "markdown",
   "metadata": {},
   "source": [
    "## Numpy NA's vs. Pandas NoneType's"
   ]
  },
  {
   "cell_type": "code",
   "execution_count": 31,
   "metadata": {},
   "outputs": [
    {
     "data": {
      "text/plain": [
       "False"
      ]
     },
     "execution_count": 31,
     "metadata": {},
     "output_type": "execute_result"
    }
   ],
   "source": [
    "None is np.NaN"
   ]
  },
  {
   "cell_type": "code",
   "execution_count": 32,
   "metadata": {},
   "outputs": [
    {
     "data": {
      "text/plain": [
       "True"
      ]
     },
     "execution_count": 32,
     "metadata": {},
     "output_type": "execute_result"
    }
   ],
   "source": [
    "None == None"
   ]
  },
  {
   "cell_type": "code",
   "execution_count": 33,
   "metadata": {},
   "outputs": [
    {
     "data": {
      "text/plain": [
       "False"
      ]
     },
     "execution_count": 33,
     "metadata": {},
     "output_type": "execute_result"
    }
   ],
   "source": [
    "None == np.NaN"
   ]
  },
  {
   "cell_type": "code",
   "execution_count": 34,
   "metadata": {},
   "outputs": [
    {
     "data": {
      "text/plain": [
       "False"
      ]
     },
     "execution_count": 34,
     "metadata": {},
     "output_type": "execute_result"
    }
   ],
   "source": [
    "np.NaN == np.NaN"
   ]
  },
  {
   "cell_type": "code",
   "execution_count": 35,
   "metadata": {},
   "outputs": [
    {
     "data": {
      "text/plain": [
       "True"
      ]
     },
     "execution_count": 35,
     "metadata": {},
     "output_type": "execute_result"
    }
   ],
   "source": [
    "np.NaN is np.NaN"
   ]
  },
  {
   "cell_type": "code",
   "execution_count": 36,
   "metadata": {},
   "outputs": [
    {
     "data": {
      "text/plain": [
       "dtype('float64')"
      ]
     },
     "execution_count": 36,
     "metadata": {},
     "output_type": "execute_result"
    }
   ],
   "source": [
    "a = np.array([[1, 2.1, 3], [4, 5, 6], [7, 8, 9], [20, 30, 40]])\n",
    "a.dtype"
   ]
  },
  {
   "cell_type": "code",
   "execution_count": 37,
   "metadata": {},
   "outputs": [
    {
     "data": {
      "text/plain": [
       "dtype('<U32')"
      ]
     },
     "execution_count": 37,
     "metadata": {},
     "output_type": "execute_result"
    }
   ],
   "source": [
    "a = np.array([[1, 2.1, 3], [4, 5, 6], [7, 8, 9], ['20', '30', '40']])\n",
    "a.dtype"
   ]
  },
  {
   "cell_type": "code",
   "execution_count": 38,
   "metadata": {},
   "outputs": [
    {
     "data": {
      "text/plain": [
       "array([['1', '2.1', '3'],\n",
       "       ['4', '5', '6'],\n",
       "       ['7', '8', '9'],\n",
       "       ['20', '30', '40']], dtype='<U32')"
      ]
     },
     "execution_count": 38,
     "metadata": {},
     "output_type": "execute_result"
    }
   ],
   "source": [
    "a"
   ]
  },
  {
   "cell_type": "code",
   "execution_count": 62,
   "metadata": {},
   "outputs": [
    {
     "data": {
      "text/plain": [
       "array([1.        , 1.33333333, 1.66666667, 2.        , 2.33333333,\n",
       "       2.66666667, 3.        , 3.33333333, 3.66666667, 4.        ,\n",
       "       4.33333333, 4.66666667, 5.        , 5.33333333, 5.66666667,\n",
       "       6.        , 6.33333333, 6.66666667, 7.        , 7.33333333,\n",
       "       7.66666667, 8.        , 8.33333333, 8.66666667, 9.        ,\n",
       "       9.33333333, 9.66666667])"
      ]
     },
     "execution_count": 62,
     "metadata": {},
     "output_type": "execute_result"
    }
   ],
   "source": [
    "np.arange(1,10,1/3)"
   ]
  },
  {
   "cell_type": "code",
   "execution_count": 63,
   "metadata": {},
   "outputs": [
    {
     "data": {
      "text/plain": [
       "(27,)"
      ]
     },
     "execution_count": 63,
     "metadata": {},
     "output_type": "execute_result"
    }
   ],
   "source": [
    "np.arange(1,10,1/3).shape"
   ]
  },
  {
   "cell_type": "code",
   "execution_count": 66,
   "metadata": {},
   "outputs": [
    {
     "data": {
      "text/plain": [
       "array([[1.        , 1.33333333, 1.66666667, 2.        , 2.33333333,\n",
       "        2.66666667, 3.        , 3.33333333, 3.66666667],\n",
       "       [4.        , 4.33333333, 4.66666667, 5.        , 5.33333333,\n",
       "        5.66666667, 6.        , 6.33333333, 6.66666667],\n",
       "       [7.        , 7.33333333, 7.66666667, 8.        , 8.33333333,\n",
       "        8.66666667, 9.        , 9.33333333, 9.66666667]])"
      ]
     },
     "execution_count": 66,
     "metadata": {},
     "output_type": "execute_result"
    }
   ],
   "source": [
    "ar3by9 = np.arange(1,10,1/3).reshape(3,9)\n",
    "ar3by9"
   ]
  },
  {
   "cell_type": "code",
   "execution_count": 67,
   "metadata": {},
   "outputs": [
    {
     "data": {
      "text/plain": [
       "(3, 9)"
      ]
     },
     "execution_count": 67,
     "metadata": {},
     "output_type": "execute_result"
    }
   ],
   "source": [
    "ar3by9.shape"
   ]
  },
  {
   "cell_type": "code",
   "execution_count": 69,
   "metadata": {},
   "outputs": [
    {
     "data": {
      "text/plain": [
       "array([[1.        , 1.33333333, 1.66666667],\n",
       "       [2.        , 2.33333333, 2.66666667],\n",
       "       [3.        , 3.33333333, 3.66666667],\n",
       "       [4.        , 4.33333333, 4.66666667],\n",
       "       [5.        , 5.33333333, 5.66666667],\n",
       "       [6.        , 6.33333333, 6.66666667],\n",
       "       [7.        , 7.33333333, 7.66666667],\n",
       "       [8.        , 8.33333333, 8.66666667],\n",
       "       [9.        , 9.33333333, 9.66666667]])"
      ]
     },
     "execution_count": 69,
     "metadata": {},
     "output_type": "execute_result"
    }
   ],
   "source": [
    "ar3by9.reshape(9,3)"
   ]
  },
  {
   "cell_type": "code",
   "execution_count": 70,
   "metadata": {},
   "outputs": [
    {
     "data": {
      "text/plain": [
       "(9, 3)"
      ]
     },
     "execution_count": 70,
     "metadata": {},
     "output_type": "execute_result"
    }
   ],
   "source": [
    "ar3by9.reshape(9,3).shape"
   ]
  },
  {
   "cell_type": "code",
   "execution_count": 79,
   "metadata": {},
   "outputs": [
    {
     "data": {
      "text/plain": [
       "array([1.   , 1.125, 1.25 , 1.375, 1.5  , 1.625, 1.75 , 1.875, 2.   ])"
      ]
     },
     "execution_count": 79,
     "metadata": {},
     "output_type": "execute_result"
    }
   ],
   "source": [
    "np.linspace(1.0, 2.0, 9)"
   ]
  },
  {
   "cell_type": "code",
   "execution_count": 80,
   "metadata": {},
   "outputs": [
    {
     "data": {
      "text/plain": [
       "(9,)"
      ]
     },
     "execution_count": 80,
     "metadata": {},
     "output_type": "execute_result"
    }
   ],
   "source": [
    "np.linspace(1.0, 2.0, 9).shape"
   ]
  },
  {
   "cell_type": "code",
   "execution_count": 81,
   "metadata": {},
   "outputs": [
    {
     "data": {
      "text/plain": [
       "array([1, 2, 3, 4, 5, 6, 7, 8])"
      ]
     },
     "execution_count": 81,
     "metadata": {},
     "output_type": "execute_result"
    }
   ],
   "source": [
    "np.arange(1,9,1)"
   ]
  },
  {
   "cell_type": "code",
   "execution_count": 82,
   "metadata": {},
   "outputs": [
    {
     "data": {
      "text/plain": [
       "array([ 1.,  2.,  3.,  4.,  5.,  6.,  7.,  8.,  9., 10.])"
      ]
     },
     "execution_count": 82,
     "metadata": {},
     "output_type": "execute_result"
    }
   ],
   "source": [
    "np.linspace(1.0, 10.0, 10)"
   ]
  },
  {
   "cell_type": "code",
   "execution_count": 83,
   "metadata": {},
   "outputs": [
    {
     "data": {
      "text/plain": [
       "array([[ 1.   ,  2.125,  3.25 ],\n",
       "       [ 4.375,  5.5  ,  6.625],\n",
       "       [ 7.75 ,  8.875, 10.   ]])"
      ]
     },
     "execution_count": 83,
     "metadata": {},
     "output_type": "execute_result"
    }
   ],
   "source": [
    "np.linspace(1.0, 10.0, 9).reshape((3,3))"
   ]
  },
  {
   "cell_type": "code",
   "execution_count": 86,
   "metadata": {},
   "outputs": [
    {
     "data": {
      "text/plain": [
       "array([[ 5, 10, 15],\n",
       "       [ 2,  4,  6],\n",
       "       [ 3,  6,  9]])"
      ]
     },
     "execution_count": 86,
     "metadata": {},
     "output_type": "execute_result"
    }
   ],
   "source": [
    "a  = np.array( [[5, 10, 15], [2, 4, 6], [3, 6, 9, ],])\n",
    "a"
   ]
  },
  {
   "cell_type": "code",
   "execution_count": 88,
   "metadata": {},
   "outputs": [
    {
     "data": {
      "text/plain": [
       "array([[10, 85, 92],\n",
       "       [77, 16, 14],\n",
       "       [19, 52, 23]])"
      ]
     },
     "execution_count": 88,
     "metadata": {},
     "output_type": "execute_result"
    }
   ],
   "source": [
    "b = np.array( [\n",
    "[10, 85, 92], [77, 16, 14], [19, 52, 23],\n",
    "] )\n",
    "b"
   ]
  },
  {
   "cell_type": "code",
   "execution_count": 89,
   "metadata": {},
   "outputs": [
    {
     "data": {
      "text/plain": [
       "(3, 3)"
      ]
     },
     "execution_count": 89,
     "metadata": {},
     "output_type": "execute_result"
    }
   ],
   "source": [
    "b.shape"
   ]
  },
  {
   "cell_type": "code",
   "execution_count": 94,
   "metadata": {},
   "outputs": [
    {
     "data": {
      "text/plain": [
       "array([[1010, 1085, 1092],\n",
       "       [1077, 1016, 1014],\n",
       "       [1019, 1052, 1023]])"
      ]
     },
     "execution_count": 94,
     "metadata": {},
     "output_type": "execute_result"
    }
   ],
   "source": [
    "b + 1000"
   ]
  },
  {
   "cell_type": "code",
   "execution_count": 97,
   "metadata": {},
   "outputs": [
    {
     "data": {
      "text/plain": [
       "array([[ 15,  95, 107],\n",
       "       [ 79,  20,  20],\n",
       "       [ 22,  58,  32]])"
      ]
     },
     "execution_count": 97,
     "metadata": {},
     "output_type": "execute_result"
    }
   ],
   "source": [
    "a + b"
   ]
  },
  {
   "cell_type": "code",
   "execution_count": 104,
   "metadata": {},
   "outputs": [
    {
     "data": {
      "text/plain": [
       "60"
      ]
     },
     "execution_count": 104,
     "metadata": {},
     "output_type": "execute_result"
    }
   ],
   "source": [
    "a.sum()"
   ]
  },
  {
   "cell_type": "code",
   "execution_count": 105,
   "metadata": {},
   "outputs": [
    {
     "data": {
      "text/plain": [
       "388"
      ]
     },
     "execution_count": 105,
     "metadata": {},
     "output_type": "execute_result"
    }
   ],
   "source": [
    "b.sum()"
   ]
  },
  {
   "cell_type": "code",
   "execution_count": 107,
   "metadata": {},
   "outputs": [
    {
     "data": {
      "text/plain": [
       "388"
      ]
     },
     "execution_count": 107,
     "metadata": {},
     "output_type": "execute_result"
    }
   ],
   "source": [
    "np.sum(b)"
   ]
  },
  {
   "cell_type": "code",
   "execution_count": 108,
   "metadata": {},
   "outputs": [
    {
     "data": {
      "text/plain": [
       "array([106, 153, 129])"
      ]
     },
     "execution_count": 108,
     "metadata": {},
     "output_type": "execute_result"
    }
   ],
   "source": [
    "sum(b)"
   ]
  },
  {
   "cell_type": "code",
   "execution_count": 116,
   "metadata": {},
   "outputs": [
    {
     "data": {
      "text/plain": [
       "array([[10, 77, 19],\n",
       "       [85, 16, 52],\n",
       "       [92, 14, 23]])"
      ]
     },
     "execution_count": 116,
     "metadata": {},
     "output_type": "execute_result"
    }
   ],
   "source": [
    "b.T"
   ]
  },
  {
   "cell_type": "code",
   "execution_count": 115,
   "metadata": {},
   "outputs": [
    {
     "data": {
      "text/plain": [
       "array([[10, 77, 19],\n",
       "       [85, 16, 52],\n",
       "       [92, 14, 23]])"
      ]
     },
     "execution_count": 115,
     "metadata": {},
     "output_type": "execute_result"
    }
   ],
   "source": [
    "b.transpose()"
   ]
  },
  {
   "cell_type": "code",
   "execution_count": 117,
   "metadata": {},
   "outputs": [
    {
     "data": {
      "text/plain": [
       "array([10, 85, 92, 77, 16, 14, 19, 52, 23])"
      ]
     },
     "execution_count": 117,
     "metadata": {},
     "output_type": "execute_result"
    }
   ],
   "source": [
    "b.ravel()"
   ]
  },
  {
   "cell_type": "code",
   "execution_count": 118,
   "metadata": {},
   "outputs": [
    {
     "data": {
      "text/plain": [
       "array([[ 5, 10, 15],\n",
       "       [ 2,  4,  6],\n",
       "       [ 3,  6,  9]])"
      ]
     },
     "execution_count": 118,
     "metadata": {},
     "output_type": "execute_result"
    }
   ],
   "source": [
    "a"
   ]
  },
  {
   "cell_type": "markdown",
   "metadata": {},
   "source": [
    "Indexing"
   ]
  },
  {
   "cell_type": "code",
   "execution_count": 123,
   "metadata": {},
   "outputs": [
    {
     "data": {
      "text/plain": [
       "10"
      ]
     },
     "execution_count": 123,
     "metadata": {},
     "output_type": "execute_result"
    }
   ],
   "source": [
    "a[0,1]"
   ]
  },
  {
   "cell_type": "markdown",
   "metadata": {},
   "source": [
    "Slicing"
   ]
  },
  {
   "cell_type": "code",
   "execution_count": 127,
   "metadata": {
    "scrolled": true
   },
   "outputs": [
    {
     "data": {
      "text/plain": [
       "array([[ 5, 10, 15],\n",
       "       [ 2,  4,  6],\n",
       "       [ 3,  6,  9]])"
      ]
     },
     "execution_count": 127,
     "metadata": {},
     "output_type": "execute_result"
    }
   ],
   "source": [
    "a"
   ]
  },
  {
   "cell_type": "code",
   "execution_count": 126,
   "metadata": {},
   "outputs": [
    {
     "data": {
      "text/plain": [
       "array([[10, 15],\n",
       "       [ 4,  6]])"
      ]
     },
     "execution_count": 126,
     "metadata": {},
     "output_type": "execute_result"
    }
   ],
   "source": [
    "a[0:2,1:]"
   ]
  },
  {
   "cell_type": "code",
   "execution_count": 130,
   "metadata": {},
   "outputs": [
    {
     "data": {
      "text/plain": [
       "array([ 5, 10, 15,  2,  4,  6,  3,  6,  9])"
      ]
     },
     "execution_count": 130,
     "metadata": {},
     "output_type": "execute_result"
    }
   ],
   "source": [
    "c = a.ravel()\n",
    "c"
   ]
  },
  {
   "cell_type": "code",
   "execution_count": 132,
   "metadata": {},
   "outputs": [
    {
     "data": {
      "text/plain": [
       "(9,)"
      ]
     },
     "execution_count": 132,
     "metadata": {},
     "output_type": "execute_result"
    }
   ],
   "source": [
    "c.shape"
   ]
  },
  {
   "cell_type": "code",
   "execution_count": 134,
   "metadata": {},
   "outputs": [
    {
     "data": {
      "text/plain": [
       "array([ 5, 10, 15])"
      ]
     },
     "execution_count": 134,
     "metadata": {},
     "output_type": "execute_result"
    }
   ],
   "source": [
    "boolean_mask = [True,True,True,False,False,False,False,False,False]\n",
    "c[boolean_mask]"
   ]
  },
  {
   "cell_type": "code",
   "execution_count": 135,
   "metadata": {},
   "outputs": [
    {
     "data": {
      "text/plain": [
       "array([False,  True,  True, False, False,  True, False,  True,  True])"
      ]
     },
     "execution_count": 135,
     "metadata": {},
     "output_type": "execute_result"
    }
   ],
   "source": [
    "c > 5"
   ]
  },
  {
   "cell_type": "code",
   "execution_count": 136,
   "metadata": {},
   "outputs": [
    {
     "data": {
      "text/plain": [
       "array([10, 15,  6,  6,  9])"
      ]
     },
     "execution_count": 136,
     "metadata": {},
     "output_type": "execute_result"
    }
   ],
   "source": [
    "c[c > 5]"
   ]
  },
  {
   "cell_type": "code",
   "execution_count": 137,
   "metadata": {},
   "outputs": [
    {
     "data": {
      "text/plain": [
       "array([[ 5, 10, 15],\n",
       "       [ 2,  4,  6],\n",
       "       [ 3,  6,  9]])"
      ]
     },
     "execution_count": 137,
     "metadata": {},
     "output_type": "execute_result"
    }
   ],
   "source": [
    "a"
   ]
  },
  {
   "cell_type": "code",
   "execution_count": 143,
   "metadata": {},
   "outputs": [
    {
     "data": {
      "text/plain": [
       "array([[ 5, 10, 15],\n",
       "       [ 2,  4,  6]])"
      ]
     },
     "execution_count": 143,
     "metadata": {},
     "output_type": "execute_result"
    }
   ],
   "source": [
    "a[[True,True,False]]"
   ]
  },
  {
   "cell_type": "code",
   "execution_count": 149,
   "metadata": {},
   "outputs": [
    {
     "data": {
      "text/plain": [
       "60"
      ]
     },
     "execution_count": 149,
     "metadata": {},
     "output_type": "execute_result"
    }
   ],
   "source": [
    "a.sum()"
   ]
  },
  {
   "cell_type": "code",
   "execution_count": 147,
   "metadata": {},
   "outputs": [
    {
     "data": {
      "text/plain": [
       "age_group    24\n",
       "aggtype      24\n",
       "Charges      24\n",
       "dtype: int64"
      ]
     },
     "execution_count": 147,
     "metadata": {},
     "output_type": "execute_result"
    }
   ],
   "source": [
    "df.count()"
   ]
  },
  {
   "cell_type": "code",
   "execution_count": 154,
   "metadata": {},
   "outputs": [
    {
     "name": "stdout",
     "output_type": "stream",
     "text": [
      "True\n",
      "False\n",
      "True\n"
     ]
    }
   ],
   "source": [
    "for row in a:\n",
    "    print(row.mean()>5)"
   ]
  },
  {
   "cell_type": "code",
   "execution_count": 156,
   "metadata": {},
   "outputs": [
    {
     "data": {
      "text/plain": [
       "array([[ 5, 10, 15],\n",
       "       [ 3,  6,  9]])"
      ]
     },
     "execution_count": 156,
     "metadata": {},
     "output_type": "execute_result"
    }
   ],
   "source": [
    "a[[row.mean()>5 for row in a]]"
   ]
  },
  {
   "cell_type": "markdown",
   "metadata": {},
   "source": [
    "Matrix Operations"
   ]
  },
  {
   "cell_type": "code",
   "execution_count": 159,
   "metadata": {},
   "outputs": [],
   "source": [
    "m1 = np.array( [[2, 4, 6],\n",
    "[10, 20, 30]] )\n",
    "m2 = np.array([[1, 15], [3, 25],\n",
    "[5, 35]]) "
   ]
  },
  {
   "cell_type": "code",
   "execution_count": 164,
   "metadata": {},
   "outputs": [
    {
     "data": {
      "text/plain": [
       "(2, 3)"
      ]
     },
     "execution_count": 164,
     "metadata": {},
     "output_type": "execute_result"
    }
   ],
   "source": [
    "m1.shape"
   ]
  },
  {
   "cell_type": "code",
   "execution_count": 165,
   "metadata": {},
   "outputs": [
    {
     "data": {
      "text/plain": [
       "(3, 2)"
      ]
     },
     "execution_count": 165,
     "metadata": {},
     "output_type": "execute_result"
    }
   ],
   "source": [
    "m2.shape"
   ]
  },
  {
   "cell_type": "code",
   "execution_count": 166,
   "metadata": {},
   "outputs": [
    {
     "data": {
      "text/plain": [
       "array([[ 6, 20],\n",
       "       [ 8, 30],\n",
       "       [10, 40]])"
      ]
     },
     "execution_count": 166,
     "metadata": {},
     "output_type": "execute_result"
    }
   ],
   "source": [
    "m2 + 5"
   ]
  },
  {
   "cell_type": "code",
   "execution_count": 163,
   "metadata": {},
   "outputs": [
    {
     "data": {
      "text/plain": [
       "array([[ 20,  40,  60],\n",
       "       [100, 200, 300]])"
      ]
     },
     "execution_count": 163,
     "metadata": {},
     "output_type": "execute_result"
    }
   ],
   "source": [
    "m1 * 10"
   ]
  },
  {
   "cell_type": "code",
   "execution_count": 167,
   "metadata": {},
   "outputs": [
    {
     "data": {
      "text/plain": [
       "array([[  44,  340],\n",
       "       [ 220, 1700]])"
      ]
     },
     "execution_count": 167,
     "metadata": {},
     "output_type": "execute_result"
    }
   ],
   "source": [
    "m1 @ m2"
   ]
  },
  {
   "cell_type": "code",
   "execution_count": 168,
   "metadata": {},
   "outputs": [
    {
     "data": {
      "text/plain": [
       "array([[ 152,  304,  456],\n",
       "       [ 256,  512,  768],\n",
       "       [ 360,  720, 1080]])"
      ]
     },
     "execution_count": 168,
     "metadata": {},
     "output_type": "execute_result"
    }
   ],
   "source": [
    "m2 @ m1"
   ]
  },
  {
   "cell_type": "code",
   "execution_count": 170,
   "metadata": {},
   "outputs": [
    {
     "name": "stdout",
     "output_type": "stream",
     "text": [
      "done\n"
     ]
    }
   ],
   "source": [
    "np.savetxt(\"m2_numpy_array.txt\", m2, delimiter=\",\", fmt=\"%d\")\n",
    "print(\"done\")"
   ]
  },
  {
   "cell_type": "code",
   "execution_count": 174,
   "metadata": {},
   "outputs": [
    {
     "data": {
      "text/plain": [
       "array([[ 1., 15.],\n",
       "       [ 3., 25.],\n",
       "       [ 5., 35.]])"
      ]
     },
     "execution_count": 174,
     "metadata": {},
     "output_type": "execute_result"
    }
   ],
   "source": [
    "m3 = np.loadtxt(\"m2_numpy_array.txt\", delimiter=\",\")\n",
    "m3"
   ]
  },
  {
   "cell_type": "code",
   "execution_count": 175,
   "metadata": {},
   "outputs": [],
   "source": []
  },
  {
   "cell_type": "code",
   "execution_count": null,
   "metadata": {},
   "outputs": [],
   "source": []
  }
 ],
 "metadata": {
  "kernelspec": {
   "display_name": "Python 3",
   "language": "python",
   "name": "python3"
  },
  "language_info": {
   "codemirror_mode": {
    "name": "ipython",
    "version": 3
   },
   "file_extension": ".py",
   "mimetype": "text/x-python",
   "name": "python",
   "nbconvert_exporter": "python",
   "pygments_lexer": "ipython3",
   "version": "3.7.4"
  }
 },
 "nbformat": 4,
 "nbformat_minor": 2
}
