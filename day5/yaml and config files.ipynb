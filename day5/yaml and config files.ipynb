{
 "cells": [
  {
   "cell_type": "code",
   "execution_count": 2,
   "metadata": {},
   "outputs": [],
   "source": [
    "import yaml\n",
    "import sys\n",
    "from datetime import date"
   ]
  },
  {
   "cell_type": "code",
   "execution_count": 8,
   "metadata": {},
   "outputs": [
    {
     "data": {
      "text/plain": [
       "{1: {'dob': datetime.date(1732, 2, 22),\n",
       "  'dod': datetime.date(1799, 12, 14),\n",
       "  'lname': 'George',\n",
       "  'fname': 'Washington'}}"
      ]
     },
     "execution_count": 8,
     "metadata": {},
     "output_type": "execute_result"
    }
   ],
   "source": [
    "potus = { 1: {\n",
    "'dob': date(1732, 2, 22),\n",
    "'dod': date(1799, 12, 14), \n",
    "'lname': 'George',\n",
    "'fname': 'Washington'\n",
    " }, }\n",
    "\n",
    "potus"
   ]
  },
  {
   "cell_type": "code",
   "execution_count": 10,
   "metadata": {},
   "outputs": [],
   "source": [
    "with open(\"gw.yaml\",'w') as fp:\n",
    "    yaml.dump(potus,fp)"
   ]
  },
  {
   "cell_type": "markdown",
   "metadata": {},
   "source": [
    "Note, yaml's load functions is depreciated. Use safe_load() instead."
   ]
  },
  {
   "cell_type": "code",
   "execution_count": 19,
   "metadata": {
    "scrolled": true
   },
   "outputs": [
    {
     "data": {
      "text/plain": [
       "{1: {'dob': datetime.date(1732, 2, 22),\n",
       "  'dod': datetime.date(1799, 12, 14),\n",
       "  'fname': 'Washington',\n",
       "  'lname': 'George'}}"
      ]
     },
     "execution_count": 19,
     "metadata": {},
     "output_type": "execute_result"
    }
   ],
   "source": [
    "with open(\"gw.yaml\",'r') as fp:\n",
    "    gw = yaml.safe_load(fp)\n",
    "gw"
   ]
  },
  {
   "cell_type": "code",
   "execution_count": 21,
   "metadata": {},
   "outputs": [
    {
     "data": {
      "text/plain": [
       "dict"
      ]
     },
     "execution_count": 21,
     "metadata": {},
     "output_type": "execute_result"
    }
   ],
   "source": [
    "type(gw)"
   ]
  },
  {
   "cell_type": "markdown",
   "metadata": {},
   "source": [
    "Example of a dummy class/object to avoid hard coding variables and column names."
   ]
  },
  {
   "cell_type": "code",
   "execution_count": null,
   "metadata": {},
   "outputs": [],
   "source": [
    "\n",
    "\n",
    "class mycolumnsNEW:\n",
    "    user = \"denis\"\n",
    "    pw = \"password\"\n",
    "\n",
    "    #can later replace with (when moving to external module):\n",
    "from myscript import mycolumn as mycolumnsNEW\n",
    "\n",
    "df[mycolumnsNEW.user]"
   ]
  }
 ],
 "metadata": {
  "kernelspec": {
   "display_name": "Python 3",
   "language": "python",
   "name": "python3"
  },
  "language_info": {
   "codemirror_mode": {
    "name": "ipython",
    "version": 3
   },
   "file_extension": ".py",
   "mimetype": "text/x-python",
   "name": "python",
   "nbconvert_exporter": "python",
   "pygments_lexer": "ipython3",
   "version": "3.7.4"
  }
 },
 "nbformat": 4,
 "nbformat_minor": 2
}
